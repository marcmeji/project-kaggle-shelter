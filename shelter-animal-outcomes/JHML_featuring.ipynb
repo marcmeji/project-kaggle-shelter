{
 "cells": [
  {
   "cell_type": "code",
   "execution_count": 1,
   "metadata": {
    "ExecuteTime": {
     "end_time": "2019-10-26T10:23:14.554123Z",
     "start_time": "2019-10-26T10:23:12.445429Z"
    }
   },
   "outputs": [
    {
     "data": {
      "text/html": [
       "        <script type=\"text/javascript\">\n",
       "        window.PlotlyConfig = {MathJaxConfig: 'local'};\n",
       "        if (window.MathJax) {MathJax.Hub.Config({SVG: {font: \"STIX-Web\"}});}\n",
       "        if (typeof require !== 'undefined') {\n",
       "        require.undef(\"plotly\");\n",
       "        requirejs.config({\n",
       "            paths: {\n",
       "                'plotly': ['https://cdn.plot.ly/plotly-latest.min']\n",
       "            }\n",
       "        });\n",
       "        require(['plotly'], function(Plotly) {\n",
       "            window._Plotly = Plotly;\n",
       "        });\n",
       "        }\n",
       "        </script>\n",
       "        "
      ]
     },
     "metadata": {},
     "output_type": "display_data"
    }
   ],
   "source": [
    "import pandas as pd\n",
    "import numpy as np\n",
    "pd.set_option('display.max_columns', None)\n",
    "pd.set_option('display.max_rows', None)\n",
    "from IPython.core.interactiveshell import InteractiveShell\n",
    "InteractiveShell.ast_node_interactivity = 'all'\n",
    "import plotly.plotly as py\n",
    "import cufflinks as cf\n",
    "cf.go_offline()\n",
    "import matplotlib.pyplot as plt\n",
    "import seaborn as sns\n",
    "%matplotlib inline\n",
    "import math\n",
    "from IPython.display import display, HTML"
   ]
  },
  {
   "cell_type": "code",
   "execution_count": 2,
   "metadata": {
    "ExecuteTime": {
     "end_time": "2019-10-26T10:23:14.695913Z",
     "start_time": "2019-10-26T10:23:14.557500Z"
    }
   },
   "outputs": [
    {
     "data": {
      "text/html": [
       "<div>\n",
       "<style scoped>\n",
       "    .dataframe tbody tr th:only-of-type {\n",
       "        vertical-align: middle;\n",
       "    }\n",
       "\n",
       "    .dataframe tbody tr th {\n",
       "        vertical-align: top;\n",
       "    }\n",
       "\n",
       "    .dataframe thead th {\n",
       "        text-align: right;\n",
       "    }\n",
       "</style>\n",
       "<table border=\"1\" class=\"dataframe\">\n",
       "  <thead>\n",
       "    <tr style=\"text-align: right;\">\n",
       "      <th></th>\n",
       "    </tr>\n",
       "  </thead>\n",
       "  <tbody>\n",
       "  </tbody>\n",
       "</table>\n",
       "</div>"
      ],
      "text/plain": [
       "Empty DataFrame\n",
       "Columns: []\n",
       "Index: []"
      ]
     },
     "execution_count": 2,
     "metadata": {},
     "output_type": "execute_result"
    }
   ],
   "source": [
    "df = pd.read_csv('train.csv')\n",
    "df.corr()"
   ]
  },
  {
   "cell_type": "code",
   "execution_count": 3,
   "metadata": {
    "ExecuteTime": {
     "end_time": "2019-10-26T10:23:14.710919Z",
     "start_time": "2019-10-26T10:23:14.706535Z"
    }
   },
   "outputs": [],
   "source": [
    "#gatoperro.head()"
   ]
  },
  {
   "cell_type": "code",
   "execution_count": 4,
   "metadata": {
    "ExecuteTime": {
     "end_time": "2019-10-26T10:23:14.725495Z",
     "start_time": "2019-10-26T10:23:14.720529Z"
    }
   },
   "outputs": [],
   "source": [
    "#gatoperro.info()"
   ]
  },
  {
   "cell_type": "code",
   "execution_count": 5,
   "metadata": {
    "ExecuteTime": {
     "end_time": "2019-10-26T10:23:14.781604Z",
     "start_time": "2019-10-26T10:23:14.750774Z"
    }
   },
   "outputs": [],
   "source": [
    "def tcor(df):\n",
    "    try:\n",
    "        display(df.corr())\n",
    "        fig, ax = plt.subplots(figsize=(6,5))\n",
    "        v_cr = sns.heatmap(df.corr(), annot=True, cmap=\"YlGnBu\")\n",
    "    except ValueError:\n",
    "        print('ERROR: NO CORRELATION TABLE')\n",
    "        pass\n",
    "def thist(df):\n",
    "    dat = df.select_dtypes(include=['float64','int64'])\n",
    "    if len(dat.columns) > 0:\n",
    "        display(dat.head())\n",
    "        side = math.ceil(math.sqrt(dat.shape[1]))\n",
    "        fig, frame = plt.subplots(side, side,figsize=(12,8))\n",
    "        fig.tight_layout()\n",
    "        x = 0\n",
    "        y = 0\n",
    "        for i, ax in enumerate(fig.axes):\n",
    "            try:\n",
    "                col = dat.columns[i]\n",
    "                ax.set_xlabel(col)\n",
    "                ax.hist(dat[col])\n",
    "            except IndexError:\n",
    "                pass\n",
    "        plt.show()\n",
    "        dat.iplot(kind='box')\n",
    "    else:\n",
    "        print(\"ERROR: NO NUMERIC FIELDS IN DATASET\")\n",
    "    \n",
    "def load(namefile):\n",
    "    return pd.read_csv(namefile, index_col=False)\n",
    "def get_div(alist, values):\n",
    "    init = \"\"\"\n",
    "       <body><style>.announce {color: #208ffb;font-weight: bold;}\n",
    "       </style><div class=\"announce\">NULLs in dataset:<br>---------------------<br>\n",
    "       \"\"\"\n",
    "    inner = \"\"\n",
    "    if type(alist)==list:\n",
    "        for col, val in zip(alist, values):\n",
    "            inner += col +\": \" + str(val) + \"<br>\"\n",
    "    else:\n",
    "        inner = alist\n",
    "    closing = \"</div></body>\"\n",
    "    html = init + inner + closing\n",
    "    return html\n",
    "def print_nulls(data):\n",
    "    null_cols = data.isnull().sum()\n",
    "    null_cols = null_cols[null_cols>0]\n",
    "    drop_cols = list(null_cols[null_cols > 0].index)\n",
    "    val_cols = [null_cols[col] for col in drop_cols]\n",
    "    if len(drop_cols)==0:\n",
    "        display(HTML(get_div('<br>This dataset has no nulls<br><br>','')))\n",
    "    else:\n",
    "        display(HTML(get_div(drop_cols,val_cols)))\n",
    "def summary(csv):\n",
    "    df = load(csv)\n",
    "    display(df.head(2))\n",
    "    display(df.tail(2))\n",
    "    print_nulls(df)\n",
    "    display(df.info())\n",
    "    tcor(df)\n",
    "    return df"
   ]
  },
  {
   "cell_type": "code",
   "execution_count": 6,
   "metadata": {
    "ExecuteTime": {
     "end_time": "2019-10-26T10:23:15.252961Z",
     "start_time": "2019-10-26T10:23:14.784529Z"
    },
    "scrolled": true
   },
   "outputs": [
    {
     "data": {
      "text/html": [
       "<div>\n",
       "<style scoped>\n",
       "    .dataframe tbody tr th:only-of-type {\n",
       "        vertical-align: middle;\n",
       "    }\n",
       "\n",
       "    .dataframe tbody tr th {\n",
       "        vertical-align: top;\n",
       "    }\n",
       "\n",
       "    .dataframe thead th {\n",
       "        text-align: right;\n",
       "    }\n",
       "</style>\n",
       "<table border=\"1\" class=\"dataframe\">\n",
       "  <thead>\n",
       "    <tr style=\"text-align: right;\">\n",
       "      <th></th>\n",
       "      <th>AnimalID</th>\n",
       "      <th>Name</th>\n",
       "      <th>DateTime</th>\n",
       "      <th>OutcomeType</th>\n",
       "      <th>OutcomeSubtype</th>\n",
       "      <th>AnimalType</th>\n",
       "      <th>SexuponOutcome</th>\n",
       "      <th>AgeuponOutcome</th>\n",
       "      <th>Breed</th>\n",
       "      <th>Color</th>\n",
       "    </tr>\n",
       "  </thead>\n",
       "  <tbody>\n",
       "    <tr>\n",
       "      <th>0</th>\n",
       "      <td>A671945</td>\n",
       "      <td>Hambone</td>\n",
       "      <td>2014-02-12 18:22:00</td>\n",
       "      <td>Return_to_owner</td>\n",
       "      <td>NaN</td>\n",
       "      <td>Dog</td>\n",
       "      <td>Neutered Male</td>\n",
       "      <td>1 year</td>\n",
       "      <td>Shetland Sheepdog Mix</td>\n",
       "      <td>Brown/White</td>\n",
       "    </tr>\n",
       "    <tr>\n",
       "      <th>1</th>\n",
       "      <td>A656520</td>\n",
       "      <td>Emily</td>\n",
       "      <td>2013-10-13 12:44:00</td>\n",
       "      <td>Euthanasia</td>\n",
       "      <td>Suffering</td>\n",
       "      <td>Cat</td>\n",
       "      <td>Spayed Female</td>\n",
       "      <td>1 year</td>\n",
       "      <td>Domestic Shorthair Mix</td>\n",
       "      <td>Cream Tabby</td>\n",
       "    </tr>\n",
       "  </tbody>\n",
       "</table>\n",
       "</div>"
      ],
      "text/plain": [
       "  AnimalID     Name             DateTime      OutcomeType OutcomeSubtype  \\\n",
       "0  A671945  Hambone  2014-02-12 18:22:00  Return_to_owner            NaN   \n",
       "1  A656520    Emily  2013-10-13 12:44:00       Euthanasia      Suffering   \n",
       "\n",
       "  AnimalType SexuponOutcome AgeuponOutcome                   Breed  \\\n",
       "0        Dog  Neutered Male         1 year   Shetland Sheepdog Mix   \n",
       "1        Cat  Spayed Female         1 year  Domestic Shorthair Mix   \n",
       "\n",
       "         Color  \n",
       "0  Brown/White  \n",
       "1  Cream Tabby  "
      ]
     },
     "metadata": {},
     "output_type": "display_data"
    },
    {
     "data": {
      "text/html": [
       "<div>\n",
       "<style scoped>\n",
       "    .dataframe tbody tr th:only-of-type {\n",
       "        vertical-align: middle;\n",
       "    }\n",
       "\n",
       "    .dataframe tbody tr th {\n",
       "        vertical-align: top;\n",
       "    }\n",
       "\n",
       "    .dataframe thead th {\n",
       "        text-align: right;\n",
       "    }\n",
       "</style>\n",
       "<table border=\"1\" class=\"dataframe\">\n",
       "  <thead>\n",
       "    <tr style=\"text-align: right;\">\n",
       "      <th></th>\n",
       "      <th>AnimalID</th>\n",
       "      <th>Name</th>\n",
       "      <th>DateTime</th>\n",
       "      <th>OutcomeType</th>\n",
       "      <th>OutcomeSubtype</th>\n",
       "      <th>AnimalType</th>\n",
       "      <th>SexuponOutcome</th>\n",
       "      <th>AgeuponOutcome</th>\n",
       "      <th>Breed</th>\n",
       "      <th>Color</th>\n",
       "    </tr>\n",
       "  </thead>\n",
       "  <tbody>\n",
       "    <tr>\n",
       "      <th>26727</th>\n",
       "      <td>A677478</td>\n",
       "      <td>NaN</td>\n",
       "      <td>2014-04-27 12:22:00</td>\n",
       "      <td>Transfer</td>\n",
       "      <td>Partner</td>\n",
       "      <td>Cat</td>\n",
       "      <td>Intact Male</td>\n",
       "      <td>4 weeks</td>\n",
       "      <td>Domestic Shorthair Mix</td>\n",
       "      <td>Black</td>\n",
       "    </tr>\n",
       "    <tr>\n",
       "      <th>26728</th>\n",
       "      <td>A706629</td>\n",
       "      <td>NaN</td>\n",
       "      <td>2015-07-02 09:00:00</td>\n",
       "      <td>Transfer</td>\n",
       "      <td>SCRP</td>\n",
       "      <td>Cat</td>\n",
       "      <td>Intact Male</td>\n",
       "      <td>1 year</td>\n",
       "      <td>Domestic Shorthair Mix</td>\n",
       "      <td>Brown Tabby/White</td>\n",
       "    </tr>\n",
       "  </tbody>\n",
       "</table>\n",
       "</div>"
      ],
      "text/plain": [
       "      AnimalID Name             DateTime OutcomeType OutcomeSubtype  \\\n",
       "26727  A677478  NaN  2014-04-27 12:22:00    Transfer        Partner   \n",
       "26728  A706629  NaN  2015-07-02 09:00:00    Transfer           SCRP   \n",
       "\n",
       "      AnimalType SexuponOutcome AgeuponOutcome                   Breed  \\\n",
       "26727        Cat    Intact Male        4 weeks  Domestic Shorthair Mix   \n",
       "26728        Cat    Intact Male         1 year  Domestic Shorthair Mix   \n",
       "\n",
       "                   Color  \n",
       "26727              Black  \n",
       "26728  Brown Tabby/White  "
      ]
     },
     "metadata": {},
     "output_type": "display_data"
    },
    {
     "data": {
      "text/html": [
       "\n",
       "       <body><style>.announce {color: #208ffb;font-weight: bold;}\n",
       "       </style><div class=\"announce\">NULLs in dataset:<br>---------------------<br>\n",
       "       Name: 7691<br>OutcomeSubtype: 13612<br>SexuponOutcome: 1<br>AgeuponOutcome: 18<br></div></body>"
      ],
      "text/plain": [
       "<IPython.core.display.HTML object>"
      ]
     },
     "metadata": {},
     "output_type": "display_data"
    },
    {
     "name": "stdout",
     "output_type": "stream",
     "text": [
      "<class 'pandas.core.frame.DataFrame'>\n",
      "RangeIndex: 26729 entries, 0 to 26728\n",
      "Data columns (total 10 columns):\n",
      "AnimalID          26729 non-null object\n",
      "Name              19038 non-null object\n",
      "DateTime          26729 non-null object\n",
      "OutcomeType       26729 non-null object\n",
      "OutcomeSubtype    13117 non-null object\n",
      "AnimalType        26729 non-null object\n",
      "SexuponOutcome    26728 non-null object\n",
      "AgeuponOutcome    26711 non-null object\n",
      "Breed             26729 non-null object\n",
      "Color             26729 non-null object\n",
      "dtypes: object(10)\n",
      "memory usage: 2.0+ MB\n"
     ]
    },
    {
     "data": {
      "text/plain": [
       "None"
      ]
     },
     "metadata": {},
     "output_type": "display_data"
    },
    {
     "data": {
      "text/html": [
       "<div>\n",
       "<style scoped>\n",
       "    .dataframe tbody tr th:only-of-type {\n",
       "        vertical-align: middle;\n",
       "    }\n",
       "\n",
       "    .dataframe tbody tr th {\n",
       "        vertical-align: top;\n",
       "    }\n",
       "\n",
       "    .dataframe thead th {\n",
       "        text-align: right;\n",
       "    }\n",
       "</style>\n",
       "<table border=\"1\" class=\"dataframe\">\n",
       "  <thead>\n",
       "    <tr style=\"text-align: right;\">\n",
       "      <th></th>\n",
       "    </tr>\n",
       "  </thead>\n",
       "  <tbody>\n",
       "  </tbody>\n",
       "</table>\n",
       "</div>"
      ],
      "text/plain": [
       "Empty DataFrame\n",
       "Columns: []\n",
       "Index: []"
      ]
     },
     "metadata": {},
     "output_type": "display_data"
    },
    {
     "name": "stdout",
     "output_type": "stream",
     "text": [
      "ERROR: NO CORRELATION TABLE\n"
     ]
    },
    {
     "data": {
      "image/png": "[encoded data removed]",
      "text/plain": [
       "<Figure size 432x360 with 1 Axes>"
      ]
     },
     "metadata": {
      "needs_background": "light"
     },
     "output_type": "display_data"
    }
   ],
   "source": [
    "gatoperro = summary('train.csv')"
   ]
  },
  {
   "cell_type": "code",
   "execution_count": 7,
   "metadata": {
    "ExecuteTime": {
     "end_time": "2019-10-26T10:23:15.277536Z",
     "start_time": "2019-10-26T10:23:15.257679Z"
    },
    "scrolled": true
   },
   "outputs": [
    {
     "data": {
      "text/html": [
       "<div>\n",
       "<style scoped>\n",
       "    .dataframe tbody tr th:only-of-type {\n",
       "        vertical-align: middle;\n",
       "    }\n",
       "\n",
       "    .dataframe tbody tr th {\n",
       "        vertical-align: top;\n",
       "    }\n",
       "\n",
       "    .dataframe thead th {\n",
       "        text-align: right;\n",
       "    }\n",
       "</style>\n",
       "<table border=\"1\" class=\"dataframe\">\n",
       "  <thead>\n",
       "    <tr style=\"text-align: right;\">\n",
       "      <th></th>\n",
       "      <th>AnimalID</th>\n",
       "      <th>Name</th>\n",
       "      <th>DateTime</th>\n",
       "      <th>OutcomeType</th>\n",
       "      <th>OutcomeSubtype</th>\n",
       "      <th>AnimalType</th>\n",
       "      <th>SexuponOutcome</th>\n",
       "      <th>AgeuponOutcome</th>\n",
       "      <th>Breed</th>\n",
       "      <th>Color</th>\n",
       "    </tr>\n",
       "  </thead>\n",
       "  <tbody>\n",
       "    <tr>\n",
       "      <th>0</th>\n",
       "      <td>A671945</td>\n",
       "      <td>Hambone</td>\n",
       "      <td>2014-02-12 18:22:00</td>\n",
       "      <td>Return_to_owner</td>\n",
       "      <td>NaN</td>\n",
       "      <td>Dog</td>\n",
       "      <td>Neutered Male</td>\n",
       "      <td>1 year</td>\n",
       "      <td>Shetland Sheepdog Mix</td>\n",
       "      <td>Brown/White</td>\n",
       "    </tr>\n",
       "    <tr>\n",
       "      <th>1</th>\n",
       "      <td>A656520</td>\n",
       "      <td>Emily</td>\n",
       "      <td>2013-10-13 12:44:00</td>\n",
       "      <td>Euthanasia</td>\n",
       "      <td>Suffering</td>\n",
       "      <td>Cat</td>\n",
       "      <td>Spayed Female</td>\n",
       "      <td>1 year</td>\n",
       "      <td>Domestic Shorthair Mix</td>\n",
       "      <td>Cream Tabby</td>\n",
       "    </tr>\n",
       "    <tr>\n",
       "      <th>2</th>\n",
       "      <td>A686464</td>\n",
       "      <td>Pearce</td>\n",
       "      <td>2015-01-31 12:28:00</td>\n",
       "      <td>Adoption</td>\n",
       "      <td>Foster</td>\n",
       "      <td>Dog</td>\n",
       "      <td>Neutered Male</td>\n",
       "      <td>2 years</td>\n",
       "      <td>Pit Bull Mix</td>\n",
       "      <td>Blue/White</td>\n",
       "    </tr>\n",
       "    <tr>\n",
       "      <th>3</th>\n",
       "      <td>A683430</td>\n",
       "      <td>NaN</td>\n",
       "      <td>2014-07-11 19:09:00</td>\n",
       "      <td>Transfer</td>\n",
       "      <td>Partner</td>\n",
       "      <td>Cat</td>\n",
       "      <td>Intact Male</td>\n",
       "      <td>3 weeks</td>\n",
       "      <td>Domestic Shorthair Mix</td>\n",
       "      <td>Blue Cream</td>\n",
       "    </tr>\n",
       "    <tr>\n",
       "      <th>4</th>\n",
       "      <td>A667013</td>\n",
       "      <td>NaN</td>\n",
       "      <td>2013-11-15 12:52:00</td>\n",
       "      <td>Transfer</td>\n",
       "      <td>Partner</td>\n",
       "      <td>Dog</td>\n",
       "      <td>Neutered Male</td>\n",
       "      <td>2 years</td>\n",
       "      <td>Lhasa Apso/Miniature Poodle</td>\n",
       "      <td>Tan</td>\n",
       "    </tr>\n",
       "  </tbody>\n",
       "</table>\n",
       "</div>"
      ],
      "text/plain": [
       "  AnimalID     Name             DateTime      OutcomeType OutcomeSubtype  \\\n",
       "0  A671945  Hambone  2014-02-12 18:22:00  Return_to_owner            NaN   \n",
       "1  A656520    Emily  2013-10-13 12:44:00       Euthanasia      Suffering   \n",
       "2  A686464   Pearce  2015-01-31 12:28:00         Adoption         Foster   \n",
       "3  A683430      NaN  2014-07-11 19:09:00         Transfer        Partner   \n",
       "4  A667013      NaN  2013-11-15 12:52:00         Transfer        Partner   \n",
       "\n",
       "  AnimalType SexuponOutcome AgeuponOutcome                        Breed  \\\n",
       "0        Dog  Neutered Male         1 year        Shetland Sheepdog Mix   \n",
       "1        Cat  Spayed Female         1 year       Domestic Shorthair Mix   \n",
       "2        Dog  Neutered Male        2 years                 Pit Bull Mix   \n",
       "3        Cat    Intact Male        3 weeks       Domestic Shorthair Mix   \n",
       "4        Dog  Neutered Male        2 years  Lhasa Apso/Miniature Poodle   \n",
       "\n",
       "         Color  \n",
       "0  Brown/White  \n",
       "1  Cream Tabby  \n",
       "2   Blue/White  \n",
       "3   Blue Cream  \n",
       "4          Tan  "
      ]
     },
     "execution_count": 7,
     "metadata": {},
     "output_type": "execute_result"
    }
   ],
   "source": [
    "gatoperro.head()"
   ]
  },
  {
   "cell_type": "code",
   "execution_count": 8,
   "metadata": {
    "ExecuteTime": {
     "end_time": "2019-10-26T10:23:15.304232Z",
     "start_time": "2019-10-26T10:23:15.287405Z"
    }
   },
   "outputs": [
    {
     "name": "stdout",
     "output_type": "stream",
     "text": [
      "ERROR: NO NUMERIC FIELDS IN DATASET\n"
     ]
    }
   ],
   "source": [
    "thist(gatoperro)"
   ]
  },
  {
   "cell_type": "code",
   "execution_count": 9,
   "metadata": {
    "ExecuteTime": {
     "end_time": "2019-10-26T10:23:15.318156Z",
     "start_time": "2019-10-26T10:23:15.308171Z"
    }
   },
   "outputs": [],
   "source": [
    "gatoperro.drop(['OutcomeSubtype'], axis=1,inplace=True)"
   ]
  },
  {
   "cell_type": "code",
   "execution_count": 10,
   "metadata": {
    "ExecuteTime": {
     "end_time": "2019-10-26T10:23:15.692637Z",
     "start_time": "2019-10-26T10:23:15.321407Z"
    }
   },
   "outputs": [],
   "source": [
    "from datetime import datetime as dt\n",
    "def tod(ser):\n",
    "    return dt.strptime(ser, '%Y-%m-%d %X').date()\n",
    "\n",
    "gatoperro.DateTime = gatoperro.DateTime.apply(tod)"
   ]
  },
  {
   "cell_type": "code",
   "execution_count": 11,
   "metadata": {
    "ExecuteTime": {
     "end_time": "2019-10-26T10:23:15.719105Z",
     "start_time": "2019-10-26T10:23:15.694461Z"
    }
   },
   "outputs": [],
   "source": [
    "gatoperro.drop(['Name'], axis=1,inplace=True)\n",
    "gatoperro.dropna(inplace=True)\n"
   ]
  },
  {
   "cell_type": "code",
   "execution_count": 12,
   "metadata": {
    "ExecuteTime": {
     "end_time": "2019-10-26T10:23:15.737872Z",
     "start_time": "2019-10-26T10:23:15.720763Z"
    },
    "scrolled": true
   },
   "outputs": [
    {
     "data": {
      "text/plain": [
       "AnimalID          0\n",
       "DateTime          0\n",
       "OutcomeType       0\n",
       "AnimalType        0\n",
       "SexuponOutcome    0\n",
       "AgeuponOutcome    0\n",
       "Breed             0\n",
       "Color             0\n",
       "dtype: int64"
      ]
     },
     "execution_count": 12,
     "metadata": {},
     "output_type": "execute_result"
    }
   ],
   "source": [
    "gatoperro.isnull().sum()"
   ]
  },
  {
   "cell_type": "code",
   "execution_count": 13,
   "metadata": {
    "ExecuteTime": {
     "end_time": "2019-10-26T10:23:15.785238Z",
     "start_time": "2019-10-26T10:23:15.741465Z"
    }
   },
   "outputs": [
    {
     "data": {
      "text/html": [
       "<div>\n",
       "<style scoped>\n",
       "    .dataframe tbody tr th:only-of-type {\n",
       "        vertical-align: middle;\n",
       "    }\n",
       "\n",
       "    .dataframe tbody tr th {\n",
       "        vertical-align: top;\n",
       "    }\n",
       "\n",
       "    .dataframe thead th {\n",
       "        text-align: right;\n",
       "    }\n",
       "</style>\n",
       "<table border=\"1\" class=\"dataframe\">\n",
       "  <thead>\n",
       "    <tr style=\"text-align: right;\">\n",
       "      <th></th>\n",
       "      <th>AnimalID</th>\n",
       "      <th>Date</th>\n",
       "      <th>OutcomeType</th>\n",
       "      <th>AnimalType</th>\n",
       "      <th>SexuponOutcome</th>\n",
       "      <th>AgeuponOutcome</th>\n",
       "      <th>Breed</th>\n",
       "      <th>Color</th>\n",
       "    </tr>\n",
       "  </thead>\n",
       "  <tbody>\n",
       "    <tr>\n",
       "      <th>0</th>\n",
       "      <td>A671945</td>\n",
       "      <td>2014-02-12</td>\n",
       "      <td>Return_to_owner</td>\n",
       "      <td>Dog</td>\n",
       "      <td>Neutered Male</td>\n",
       "      <td>1 year</td>\n",
       "      <td>Shetland Sheepdog Mix</td>\n",
       "      <td>Brown/White</td>\n",
       "    </tr>\n",
       "    <tr>\n",
       "      <th>1</th>\n",
       "      <td>A656520</td>\n",
       "      <td>2013-10-13</td>\n",
       "      <td>Euthanasia</td>\n",
       "      <td>Cat</td>\n",
       "      <td>Spayed Female</td>\n",
       "      <td>1 year</td>\n",
       "      <td>Domestic Shorthair Mix</td>\n",
       "      <td>Cream Tabby</td>\n",
       "    </tr>\n",
       "    <tr>\n",
       "      <th>2</th>\n",
       "      <td>A686464</td>\n",
       "      <td>2015-01-31</td>\n",
       "      <td>Adoption</td>\n",
       "      <td>Dog</td>\n",
       "      <td>Neutered Male</td>\n",
       "      <td>2 years</td>\n",
       "      <td>Pit Bull Mix</td>\n",
       "      <td>Blue/White</td>\n",
       "    </tr>\n",
       "    <tr>\n",
       "      <th>3</th>\n",
       "      <td>A683430</td>\n",
       "      <td>2014-07-11</td>\n",
       "      <td>Transfer</td>\n",
       "      <td>Cat</td>\n",
       "      <td>Intact Male</td>\n",
       "      <td>3 weeks</td>\n",
       "      <td>Domestic Shorthair Mix</td>\n",
       "      <td>Blue Cream</td>\n",
       "    </tr>\n",
       "    <tr>\n",
       "      <th>4</th>\n",
       "      <td>A667013</td>\n",
       "      <td>2013-11-15</td>\n",
       "      <td>Transfer</td>\n",
       "      <td>Dog</td>\n",
       "      <td>Neutered Male</td>\n",
       "      <td>2 years</td>\n",
       "      <td>Lhasa Apso/Miniature Poodle</td>\n",
       "      <td>Tan</td>\n",
       "    </tr>\n",
       "  </tbody>\n",
       "</table>\n",
       "</div>"
      ],
      "text/plain": [
       "  AnimalID        Date      OutcomeType AnimalType SexuponOutcome  \\\n",
       "0  A671945  2014-02-12  Return_to_owner        Dog  Neutered Male   \n",
       "1  A656520  2013-10-13       Euthanasia        Cat  Spayed Female   \n",
       "2  A686464  2015-01-31         Adoption        Dog  Neutered Male   \n",
       "3  A683430  2014-07-11         Transfer        Cat    Intact Male   \n",
       "4  A667013  2013-11-15         Transfer        Dog  Neutered Male   \n",
       "\n",
       "  AgeuponOutcome                        Breed        Color  \n",
       "0         1 year        Shetland Sheepdog Mix  Brown/White  \n",
       "1         1 year       Domestic Shorthair Mix  Cream Tabby  \n",
       "2        2 years                 Pit Bull Mix   Blue/White  \n",
       "3        3 weeks       Domestic Shorthair Mix   Blue Cream  \n",
       "4        2 years  Lhasa Apso/Miniature Poodle          Tan  "
      ]
     },
     "execution_count": 13,
     "metadata": {},
     "output_type": "execute_result"
    }
   ],
   "source": [
    "\n",
    "gatoperro = gatoperro.rename(columns={'DateTime':'Date'})\n",
    "gatoperro.head()"
   ]
  },
  {
   "cell_type": "code",
   "execution_count": 14,
   "metadata": {
    "ExecuteTime": {
     "end_time": "2019-10-26T10:23:15.799317Z",
     "start_time": "2019-10-26T10:23:15.790977Z"
    }
   },
   "outputs": [],
   "source": [
    "#gatoperro.to_csv('gatoperro_prepro.csv')"
   ]
  },
  {
   "cell_type": "code",
   "execution_count": 15,
   "metadata": {
    "ExecuteTime": {
     "end_time": "2019-10-26T10:23:15.821428Z",
     "start_time": "2019-10-26T10:23:15.801620Z"
    }
   },
   "outputs": [],
   "source": [
    "gatoperro.drop(['Breed'], axis=1,inplace=True)"
   ]
  },
  {
   "cell_type": "code",
   "execution_count": 16,
   "metadata": {
    "ExecuteTime": {
     "end_time": "2019-10-26T10:23:15.878773Z",
     "start_time": "2019-10-26T10:23:15.827537Z"
    }
   },
   "outputs": [
    {
     "data": {
      "text/html": [
       "<div>\n",
       "<style scoped>\n",
       "    .dataframe tbody tr th:only-of-type {\n",
       "        vertical-align: middle;\n",
       "    }\n",
       "\n",
       "    .dataframe tbody tr th {\n",
       "        vertical-align: top;\n",
       "    }\n",
       "\n",
       "    .dataframe thead th {\n",
       "        text-align: right;\n",
       "    }\n",
       "</style>\n",
       "<table border=\"1\" class=\"dataframe\">\n",
       "  <thead>\n",
       "    <tr style=\"text-align: right;\">\n",
       "      <th></th>\n",
       "      <th>AnimalID</th>\n",
       "      <th>Date</th>\n",
       "      <th>OutcomeType</th>\n",
       "      <th>AnimalType</th>\n",
       "      <th>SexuponOutcome</th>\n",
       "      <th>AgeuponOutcome</th>\n",
       "      <th>Color</th>\n",
       "      <th>AgeOutcomeDays</th>\n",
       "    </tr>\n",
       "  </thead>\n",
       "  <tbody>\n",
       "    <tr>\n",
       "      <th>0</th>\n",
       "      <td>A671945</td>\n",
       "      <td>2014-02-12</td>\n",
       "      <td>Return_to_owner</td>\n",
       "      <td>Dog</td>\n",
       "      <td>Neutered Male</td>\n",
       "      <td>1 year</td>\n",
       "      <td>Brown/White</td>\n",
       "      <td>365</td>\n",
       "    </tr>\n",
       "    <tr>\n",
       "      <th>1</th>\n",
       "      <td>A656520</td>\n",
       "      <td>2013-10-13</td>\n",
       "      <td>Euthanasia</td>\n",
       "      <td>Cat</td>\n",
       "      <td>Spayed Female</td>\n",
       "      <td>1 year</td>\n",
       "      <td>Cream Tabby</td>\n",
       "      <td>365</td>\n",
       "    </tr>\n",
       "    <tr>\n",
       "      <th>2</th>\n",
       "      <td>A686464</td>\n",
       "      <td>2015-01-31</td>\n",
       "      <td>Adoption</td>\n",
       "      <td>Dog</td>\n",
       "      <td>Neutered Male</td>\n",
       "      <td>2 years</td>\n",
       "      <td>Blue/White</td>\n",
       "      <td>730</td>\n",
       "    </tr>\n",
       "    <tr>\n",
       "      <th>3</th>\n",
       "      <td>A683430</td>\n",
       "      <td>2014-07-11</td>\n",
       "      <td>Transfer</td>\n",
       "      <td>Cat</td>\n",
       "      <td>Intact Male</td>\n",
       "      <td>3 weeks</td>\n",
       "      <td>Blue Cream</td>\n",
       "      <td>21</td>\n",
       "    </tr>\n",
       "    <tr>\n",
       "      <th>4</th>\n",
       "      <td>A667013</td>\n",
       "      <td>2013-11-15</td>\n",
       "      <td>Transfer</td>\n",
       "      <td>Dog</td>\n",
       "      <td>Neutered Male</td>\n",
       "      <td>2 years</td>\n",
       "      <td>Tan</td>\n",
       "      <td>730</td>\n",
       "    </tr>\n",
       "  </tbody>\n",
       "</table>\n",
       "</div>"
      ],
      "text/plain": [
       "  AnimalID        Date      OutcomeType AnimalType SexuponOutcome  \\\n",
       "0  A671945  2014-02-12  Return_to_owner        Dog  Neutered Male   \n",
       "1  A656520  2013-10-13       Euthanasia        Cat  Spayed Female   \n",
       "2  A686464  2015-01-31         Adoption        Dog  Neutered Male   \n",
       "3  A683430  2014-07-11         Transfer        Cat    Intact Male   \n",
       "4  A667013  2013-11-15         Transfer        Dog  Neutered Male   \n",
       "\n",
       "  AgeuponOutcome        Color  AgeOutcomeDays  \n",
       "0         1 year  Brown/White             365  \n",
       "1         1 year  Cream Tabby             365  \n",
       "2        2 years   Blue/White             730  \n",
       "3        3 weeks   Blue Cream              21  \n",
       "4        2 years          Tan             730  "
      ]
     },
     "execution_count": 16,
     "metadata": {},
     "output_type": "execute_result"
    }
   ],
   "source": [
    "def d2(string):\n",
    "    res = 0\n",
    "    if type(string)==str:\n",
    "        t = string.split()\n",
    "        mul = t[0]\n",
    "        it = t[1]\n",
    "        period = 0\n",
    "        if 'year' in it:\n",
    "            period = 365\n",
    "        if 'month' in it:\n",
    "            period = 30\n",
    "        if 'week' in it:\n",
    "            period = 7\n",
    "        if 'day' in it:\n",
    "            period = 1\n",
    "        res = int(mul)*period\n",
    "    return res\n",
    "gatoperro['AgeOutcomeDays']=gatoperro['AgeuponOutcome'].apply(d2)\n",
    "gatoperro.head()\n"
   ]
  },
  {
   "cell_type": "code",
   "execution_count": 17,
   "metadata": {
    "ExecuteTime": {
     "end_time": "2019-10-26T10:23:16.642967Z",
     "start_time": "2019-10-26T10:23:15.882240Z"
    }
   },
   "outputs": [
    {
     "data": {
      "text/plain": [
       "<matplotlib.axes._subplots.AxesSubplot at 0x12630a8d0>"
      ]
     },
     "execution_count": 17,
     "metadata": {},
     "output_type": "execute_result"
    },
    {
     "data": {
      "image/png": "[encoded data removed]",
      "text/plain": [
       "<Figure size 936x576 with 1 Axes>"
      ]
     },
     "metadata": {
      "needs_background": "light"
     },
     "output_type": "display_data"
    }
   ],
   "source": [
    "fig, ax = plt.subplots(figsize=(13,8)) \n",
    "gatoperro['AgeOutcomeDays'].hist(bins=200)"
   ]
  },
  {
   "cell_type": "code",
   "execution_count": 18,
   "metadata": {
    "ExecuteTime": {
     "end_time": "2019-10-26T10:23:16.657165Z",
     "start_time": "2019-10-26T10:23:16.650025Z"
    }
   },
   "outputs": [],
   "source": [
    "gatoperro.drop(['AgeuponOutcome'], axis=1,inplace=True)"
   ]
  },
  {
   "cell_type": "code",
   "execution_count": 19,
   "metadata": {
    "ExecuteTime": {
     "end_time": "2019-10-26T10:23:16.748474Z",
     "start_time": "2019-10-26T10:23:16.660248Z"
    }
   },
   "outputs": [],
   "source": [
    "dic = {'Brown':'Brownish', 'Chocolate':'Brownish', 'Tan':'Brownish', 'Whit': 'Whitish', 'Black':'Blackish',\n",
    "      'Orange':'Orangeish', 'Blue':'Blueish'}\n",
    "for color in dic.keys():\n",
    "    gatoperro.Color= np.where(gatoperro.Color.str.startswith(color), dic[color], gatoperro.Color)"
   ]
  },
  {
   "cell_type": "code",
   "execution_count": 20,
   "metadata": {
    "ExecuteTime": {
     "end_time": "2019-10-26T10:23:16.753946Z",
     "start_time": "2019-10-26T10:23:16.750536Z"
    }
   },
   "outputs": [],
   "source": [
    "def othercolors(item):\n",
    "    if item not in(dic.values()):\n",
    "        return 'Other'\n",
    "    return item"
   ]
  },
  {
   "cell_type": "code",
   "execution_count": 21,
   "metadata": {
    "ExecuteTime": {
     "end_time": "2019-10-26T10:23:16.771497Z",
     "start_time": "2019-10-26T10:23:16.756429Z"
    }
   },
   "outputs": [],
   "source": [
    "gatoperro.Color = gatoperro.Color.apply(othercolors)"
   ]
  },
  {
   "cell_type": "code",
   "execution_count": 22,
   "metadata": {
    "ExecuteTime": {
     "end_time": "2019-10-26T10:23:16.783399Z",
     "start_time": "2019-10-26T10:23:16.773153Z"
    },
    "scrolled": false
   },
   "outputs": [
    {
     "data": {
      "text/plain": [
       "Brownish     7455\n",
       "Blackish     6641\n",
       "Other        5782\n",
       "Whitish      3343\n",
       "Blueish      2146\n",
       "Orangeish    1343\n",
       "Name: Color, dtype: int64"
      ]
     },
     "execution_count": 22,
     "metadata": {},
     "output_type": "execute_result"
    }
   ],
   "source": [
    "gatoperro['Color'].value_counts()"
   ]
  },
  {
   "cell_type": "code",
   "execution_count": 23,
   "metadata": {
    "ExecuteTime": {
     "end_time": "2019-10-26T10:23:16.801488Z",
     "start_time": "2019-10-26T10:23:16.793433Z"
    }
   },
   "outputs": [],
   "source": [
    "def paint_cat(var):\n",
    "    plt.figure(figsize=(16, 6))\n",
    "    sns.countplot(gatoperro[var])\n",
    "    plt.show()"
   ]
  },
  {
   "cell_type": "code",
   "execution_count": 24,
   "metadata": {
    "ExecuteTime": {
     "end_time": "2019-10-26T10:23:19.165213Z",
     "start_time": "2019-10-26T10:23:16.820505Z"
    }
   },
   "outputs": [
    {
     "data": {
      "image/png": "[encoded data removed]",
      "text/plain": [
       "<Figure size 1152x432 with 1 Axes>"
      ]
     },
     "metadata": {
      "needs_background": "light"
     },
     "output_type": "display_data"
    },
    {
     "data": {
      "image/png": "[encoded data removed]",
      "text/plain": [
       "<Figure size 1152x432 with 1 Axes>"
      ]
     },
     "metadata": {
      "needs_background": "light"
     },
     "output_type": "display_data"
    },
    {
     "data": {
      "image/png": "[encoded data removed]",
      "text/plain": [
       "<Figure size 1152x432 with 1 Axes>"
      ]
     },
     "metadata": {
      "needs_background": "light"
     },
     "output_type": "display_data"
    },
    {
     "data": {
      "image/png": "[encoded data removed]",
      "text/plain": [
       "<Figure size 1152x432 with 1 Axes>"
      ]
     },
     "metadata": {
      "needs_background": "light"
     },
     "output_type": "display_data"
    }
   ],
   "source": [
    "var_categorical = ['OutcomeType', 'AnimalType', 'SexuponOutcome', 'Color']\n",
    "\n",
    "for var in var_categorical:\n",
    "    paint_cat(var)"
   ]
  },
  {
   "cell_type": "code",
   "execution_count": 25,
   "metadata": {
    "ExecuteTime": {
     "end_time": "2019-10-26T10:23:19.180006Z",
     "start_time": "2019-10-26T10:23:19.168435Z"
    }
   },
   "outputs": [],
   "source": [
    "#gatoperro.to_csv('gatoperro_eda.csv')"
   ]
  },
  {
   "cell_type": "code",
   "execution_count": 26,
   "metadata": {
    "ExecuteTime": {
     "end_time": "2019-10-26T10:23:19.203668Z",
     "start_time": "2019-10-26T10:23:19.182878Z"
    }
   },
   "outputs": [
    {
     "name": "stdout",
     "output_type": "stream",
     "text": [
      "<class 'pandas.core.frame.DataFrame'>\n",
      "Int64Index: 26710 entries, 0 to 26728\n",
      "Data columns (total 7 columns):\n",
      "AnimalID          26710 non-null object\n",
      "Date              26710 non-null object\n",
      "OutcomeType       26710 non-null object\n",
      "AnimalType        26710 non-null object\n",
      "SexuponOutcome    26710 non-null object\n",
      "Color             26710 non-null object\n",
      "AgeOutcomeDays    26710 non-null int64\n",
      "dtypes: int64(1), object(6)\n",
      "memory usage: 2.9+ MB\n"
     ]
    }
   ],
   "source": [
    "gatoperro.info()"
   ]
  },
  {
   "cell_type": "code",
   "execution_count": 27,
   "metadata": {
    "ExecuteTime": {
     "end_time": "2019-10-26T10:23:19.239400Z",
     "start_time": "2019-10-26T10:23:19.207769Z"
    }
   },
   "outputs": [
    {
     "data": {
      "text/html": [
       "<div>\n",
       "<style scoped>\n",
       "    .dataframe tbody tr th:only-of-type {\n",
       "        vertical-align: middle;\n",
       "    }\n",
       "\n",
       "    .dataframe tbody tr th {\n",
       "        vertical-align: top;\n",
       "    }\n",
       "\n",
       "    .dataframe thead th {\n",
       "        text-align: right;\n",
       "    }\n",
       "</style>\n",
       "<table border=\"1\" class=\"dataframe\">\n",
       "  <thead>\n",
       "    <tr style=\"text-align: right;\">\n",
       "      <th></th>\n",
       "      <th>AnimalID</th>\n",
       "      <th>Date</th>\n",
       "      <th>OutcomeType</th>\n",
       "      <th>AnimalType</th>\n",
       "      <th>SexuponOutcome</th>\n",
       "      <th>Color</th>\n",
       "      <th>AgeOutcomeDays</th>\n",
       "    </tr>\n",
       "  </thead>\n",
       "  <tbody>\n",
       "    <tr>\n",
       "      <th>0</th>\n",
       "      <td>A671945</td>\n",
       "      <td>2014-02-12</td>\n",
       "      <td>Return_to_owner</td>\n",
       "      <td>Dog</td>\n",
       "      <td>Neutered Male</td>\n",
       "      <td>Brownish</td>\n",
       "      <td>365</td>\n",
       "    </tr>\n",
       "    <tr>\n",
       "      <th>1</th>\n",
       "      <td>A656520</td>\n",
       "      <td>2013-10-13</td>\n",
       "      <td>Euthanasia</td>\n",
       "      <td>Cat</td>\n",
       "      <td>Spayed Female</td>\n",
       "      <td>Other</td>\n",
       "      <td>365</td>\n",
       "    </tr>\n",
       "    <tr>\n",
       "      <th>2</th>\n",
       "      <td>A686464</td>\n",
       "      <td>2015-01-31</td>\n",
       "      <td>Adoption</td>\n",
       "      <td>Dog</td>\n",
       "      <td>Neutered Male</td>\n",
       "      <td>Blueish</td>\n",
       "      <td>730</td>\n",
       "    </tr>\n",
       "    <tr>\n",
       "      <th>3</th>\n",
       "      <td>A683430</td>\n",
       "      <td>2014-07-11</td>\n",
       "      <td>Transfer</td>\n",
       "      <td>Cat</td>\n",
       "      <td>Intact Male</td>\n",
       "      <td>Blueish</td>\n",
       "      <td>21</td>\n",
       "    </tr>\n",
       "    <tr>\n",
       "      <th>4</th>\n",
       "      <td>A667013</td>\n",
       "      <td>2013-11-15</td>\n",
       "      <td>Transfer</td>\n",
       "      <td>Dog</td>\n",
       "      <td>Neutered Male</td>\n",
       "      <td>Brownish</td>\n",
       "      <td>730</td>\n",
       "    </tr>\n",
       "  </tbody>\n",
       "</table>\n",
       "</div>"
      ],
      "text/plain": [
       "  AnimalID        Date      OutcomeType AnimalType SexuponOutcome     Color  \\\n",
       "0  A671945  2014-02-12  Return_to_owner        Dog  Neutered Male  Brownish   \n",
       "1  A656520  2013-10-13       Euthanasia        Cat  Spayed Female     Other   \n",
       "2  A686464  2015-01-31         Adoption        Dog  Neutered Male   Blueish   \n",
       "3  A683430  2014-07-11         Transfer        Cat    Intact Male   Blueish   \n",
       "4  A667013  2013-11-15         Transfer        Dog  Neutered Male  Brownish   \n",
       "\n",
       "   AgeOutcomeDays  \n",
       "0             365  \n",
       "1             365  \n",
       "2             730  \n",
       "3              21  \n",
       "4             730  "
      ]
     },
     "execution_count": 27,
     "metadata": {},
     "output_type": "execute_result"
    }
   ],
   "source": [
    "gatoperro.head()"
   ]
  },
  {
   "cell_type": "code",
   "execution_count": 28,
   "metadata": {
    "ExecuteTime": {
     "end_time": "2019-10-26T10:23:19.332895Z",
     "start_time": "2019-10-26T10:23:19.255975Z"
    }
   },
   "outputs": [
    {
     "name": "stdout",
     "output_type": "stream",
     "text": [
      "2\n"
     ]
    }
   ],
   "source": [
    "from datetime import datetime\n",
    "def deixa_mes(x):\n",
    "    do = x\n",
    "    try:\n",
    "        do = datetime.strptime(x, '%Y-%m-%d')\n",
    "    except:\n",
    "        pass\n",
    "    return do.month\n",
    "\n",
    "print(deixa_mes('2014-02-12'))\n",
    "\n",
    "gatoperro['Month'] = gatoperro.Date.apply(deixa_mes)"
   ]
  },
  {
   "cell_type": "code",
   "execution_count": 29,
   "metadata": {
    "ExecuteTime": {
     "end_time": "2019-10-26T10:23:19.366085Z",
     "start_time": "2019-10-26T10:23:19.337202Z"
    }
   },
   "outputs": [
    {
     "data": {
      "text/html": [
       "<div>\n",
       "<style scoped>\n",
       "    .dataframe tbody tr th:only-of-type {\n",
       "        vertical-align: middle;\n",
       "    }\n",
       "\n",
       "    .dataframe tbody tr th {\n",
       "        vertical-align: top;\n",
       "    }\n",
       "\n",
       "    .dataframe thead th {\n",
       "        text-align: right;\n",
       "    }\n",
       "</style>\n",
       "<table border=\"1\" class=\"dataframe\">\n",
       "  <thead>\n",
       "    <tr style=\"text-align: right;\">\n",
       "      <th></th>\n",
       "      <th>AnimalID</th>\n",
       "      <th>Date</th>\n",
       "      <th>OutcomeType</th>\n",
       "      <th>AnimalType</th>\n",
       "      <th>SexuponOutcome</th>\n",
       "      <th>Color</th>\n",
       "      <th>AgeOutcomeDays</th>\n",
       "      <th>Month</th>\n",
       "    </tr>\n",
       "  </thead>\n",
       "  <tbody>\n",
       "    <tr>\n",
       "      <th>0</th>\n",
       "      <td>A671945</td>\n",
       "      <td>2014-02-12</td>\n",
       "      <td>Return_to_owner</td>\n",
       "      <td>Dog</td>\n",
       "      <td>Neutered Male</td>\n",
       "      <td>Brownish</td>\n",
       "      <td>365</td>\n",
       "      <td>2</td>\n",
       "    </tr>\n",
       "    <tr>\n",
       "      <th>1</th>\n",
       "      <td>A656520</td>\n",
       "      <td>2013-10-13</td>\n",
       "      <td>Euthanasia</td>\n",
       "      <td>Cat</td>\n",
       "      <td>Spayed Female</td>\n",
       "      <td>Other</td>\n",
       "      <td>365</td>\n",
       "      <td>10</td>\n",
       "    </tr>\n",
       "    <tr>\n",
       "      <th>2</th>\n",
       "      <td>A686464</td>\n",
       "      <td>2015-01-31</td>\n",
       "      <td>Adoption</td>\n",
       "      <td>Dog</td>\n",
       "      <td>Neutered Male</td>\n",
       "      <td>Blueish</td>\n",
       "      <td>730</td>\n",
       "      <td>1</td>\n",
       "    </tr>\n",
       "    <tr>\n",
       "      <th>3</th>\n",
       "      <td>A683430</td>\n",
       "      <td>2014-07-11</td>\n",
       "      <td>Transfer</td>\n",
       "      <td>Cat</td>\n",
       "      <td>Intact Male</td>\n",
       "      <td>Blueish</td>\n",
       "      <td>21</td>\n",
       "      <td>7</td>\n",
       "    </tr>\n",
       "    <tr>\n",
       "      <th>4</th>\n",
       "      <td>A667013</td>\n",
       "      <td>2013-11-15</td>\n",
       "      <td>Transfer</td>\n",
       "      <td>Dog</td>\n",
       "      <td>Neutered Male</td>\n",
       "      <td>Brownish</td>\n",
       "      <td>730</td>\n",
       "      <td>11</td>\n",
       "    </tr>\n",
       "  </tbody>\n",
       "</table>\n",
       "</div>"
      ],
      "text/plain": [
       "  AnimalID        Date      OutcomeType AnimalType SexuponOutcome     Color  \\\n",
       "0  A671945  2014-02-12  Return_to_owner        Dog  Neutered Male  Brownish   \n",
       "1  A656520  2013-10-13       Euthanasia        Cat  Spayed Female     Other   \n",
       "2  A686464  2015-01-31         Adoption        Dog  Neutered Male   Blueish   \n",
       "3  A683430  2014-07-11         Transfer        Cat    Intact Male   Blueish   \n",
       "4  A667013  2013-11-15         Transfer        Dog  Neutered Male  Brownish   \n",
       "\n",
       "   AgeOutcomeDays  Month  \n",
       "0             365      2  \n",
       "1             365     10  \n",
       "2             730      1  \n",
       "3              21      7  \n",
       "4             730     11  "
      ]
     },
     "execution_count": 29,
     "metadata": {},
     "output_type": "execute_result"
    }
   ],
   "source": [
    "gatoperro.head()"
   ]
  },
  {
   "cell_type": "code",
   "execution_count": 30,
   "metadata": {
    "ExecuteTime": {
     "end_time": "2019-10-26T10:23:19.417233Z",
     "start_time": "2019-10-26T10:23:19.370903Z"
    }
   },
   "outputs": [
    {
     "data": {
      "text/html": [
       "<div>\n",
       "<style scoped>\n",
       "    .dataframe tbody tr th:only-of-type {\n",
       "        vertical-align: middle;\n",
       "    }\n",
       "\n",
       "    .dataframe tbody tr th {\n",
       "        vertical-align: top;\n",
       "    }\n",
       "\n",
       "    .dataframe thead th {\n",
       "        text-align: right;\n",
       "    }\n",
       "</style>\n",
       "<table border=\"1\" class=\"dataframe\">\n",
       "  <thead>\n",
       "    <tr style=\"text-align: right;\">\n",
       "      <th></th>\n",
       "      <th>OutcomeType</th>\n",
       "      <th>AnimalType</th>\n",
       "      <th>SexuponOutcome</th>\n",
       "      <th>Color</th>\n",
       "      <th>AgeOutcomeDays</th>\n",
       "      <th>Month</th>\n",
       "    </tr>\n",
       "  </thead>\n",
       "  <tbody>\n",
       "    <tr>\n",
       "      <th>0</th>\n",
       "      <td>Return_to_owner</td>\n",
       "      <td>Dog</td>\n",
       "      <td>Neutered Male</td>\n",
       "      <td>Brownish</td>\n",
       "      <td>365</td>\n",
       "      <td>2</td>\n",
       "    </tr>\n",
       "    <tr>\n",
       "      <th>1</th>\n",
       "      <td>Euthanasia</td>\n",
       "      <td>Cat</td>\n",
       "      <td>Spayed Female</td>\n",
       "      <td>Other</td>\n",
       "      <td>365</td>\n",
       "      <td>10</td>\n",
       "    </tr>\n",
       "    <tr>\n",
       "      <th>2</th>\n",
       "      <td>Adoption</td>\n",
       "      <td>Dog</td>\n",
       "      <td>Neutered Male</td>\n",
       "      <td>Blueish</td>\n",
       "      <td>730</td>\n",
       "      <td>1</td>\n",
       "    </tr>\n",
       "    <tr>\n",
       "      <th>3</th>\n",
       "      <td>Transfer</td>\n",
       "      <td>Cat</td>\n",
       "      <td>Intact Male</td>\n",
       "      <td>Blueish</td>\n",
       "      <td>21</td>\n",
       "      <td>7</td>\n",
       "    </tr>\n",
       "    <tr>\n",
       "      <th>4</th>\n",
       "      <td>Transfer</td>\n",
       "      <td>Dog</td>\n",
       "      <td>Neutered Male</td>\n",
       "      <td>Brownish</td>\n",
       "      <td>730</td>\n",
       "      <td>11</td>\n",
       "    </tr>\n",
       "  </tbody>\n",
       "</table>\n",
       "</div>"
      ],
      "text/plain": [
       "       OutcomeType AnimalType SexuponOutcome     Color  AgeOutcomeDays  Month\n",
       "0  Return_to_owner        Dog  Neutered Male  Brownish             365      2\n",
       "1       Euthanasia        Cat  Spayed Female     Other             365     10\n",
       "2         Adoption        Dog  Neutered Male   Blueish             730      1\n",
       "3         Transfer        Cat    Intact Male   Blueish              21      7\n",
       "4         Transfer        Dog  Neutered Male  Brownish             730     11"
      ]
     },
     "execution_count": 30,
     "metadata": {},
     "output_type": "execute_result"
    }
   ],
   "source": [
    "gatoperro_clean = gatoperro.copy()\n",
    "gatoperro_clean.drop(['AnimalID','Date'], axis=1,inplace=True)\n",
    "gatoperro_clean.head()"
   ]
  },
  {
   "cell_type": "code",
   "execution_count": 31,
   "metadata": {
    "ExecuteTime": {
     "end_time": "2019-10-26T10:23:19.427302Z",
     "start_time": "2019-10-26T10:23:19.421908Z"
    }
   },
   "outputs": [],
   "source": [
    "#gatoperro.to_csv('gatoperro_stats.csv',header=True)"
   ]
  },
  {
   "cell_type": "code",
   "execution_count": 32,
   "metadata": {
    "ExecuteTime": {
     "end_time": "2019-10-26T10:23:19.772101Z",
     "start_time": "2019-10-26T10:23:19.445450Z"
    }
   },
   "outputs": [
    {
     "data": {
      "text/html": [
       "<div>\n",
       "<style scoped>\n",
       "    .dataframe tbody tr th:only-of-type {\n",
       "        vertical-align: middle;\n",
       "    }\n",
       "\n",
       "    .dataframe tbody tr th {\n",
       "        vertical-align: top;\n",
       "    }\n",
       "\n",
       "    .dataframe thead th {\n",
       "        text-align: right;\n",
       "    }\n",
       "</style>\n",
       "<table border=\"1\" class=\"dataframe\">\n",
       "  <thead>\n",
       "    <tr style=\"text-align: right;\">\n",
       "      <th></th>\n",
       "      <th>OutcomeType</th>\n",
       "      <th>AnimalType</th>\n",
       "      <th>SexuponOutcome</th>\n",
       "      <th>Color</th>\n",
       "      <th>AgeOutcomeDays</th>\n",
       "      <th>Month</th>\n",
       "      <th>y</th>\n",
       "    </tr>\n",
       "  </thead>\n",
       "  <tbody>\n",
       "    <tr>\n",
       "      <th>0</th>\n",
       "      <td>Return_to_owner</td>\n",
       "      <td>Dog</td>\n",
       "      <td>Neutered Male</td>\n",
       "      <td>Brownish</td>\n",
       "      <td>365</td>\n",
       "      <td>2</td>\n",
       "      <td>3</td>\n",
       "    </tr>\n",
       "    <tr>\n",
       "      <th>1</th>\n",
       "      <td>Euthanasia</td>\n",
       "      <td>Cat</td>\n",
       "      <td>Spayed Female</td>\n",
       "      <td>Other</td>\n",
       "      <td>365</td>\n",
       "      <td>10</td>\n",
       "      <td>2</td>\n",
       "    </tr>\n",
       "    <tr>\n",
       "      <th>2</th>\n",
       "      <td>Adoption</td>\n",
       "      <td>Dog</td>\n",
       "      <td>Neutered Male</td>\n",
       "      <td>Blueish</td>\n",
       "      <td>730</td>\n",
       "      <td>1</td>\n",
       "      <td>0</td>\n",
       "    </tr>\n",
       "    <tr>\n",
       "      <th>3</th>\n",
       "      <td>Transfer</td>\n",
       "      <td>Cat</td>\n",
       "      <td>Intact Male</td>\n",
       "      <td>Blueish</td>\n",
       "      <td>21</td>\n",
       "      <td>7</td>\n",
       "      <td>4</td>\n",
       "    </tr>\n",
       "    <tr>\n",
       "      <th>4</th>\n",
       "      <td>Transfer</td>\n",
       "      <td>Dog</td>\n",
       "      <td>Neutered Male</td>\n",
       "      <td>Brownish</td>\n",
       "      <td>730</td>\n",
       "      <td>11</td>\n",
       "      <td>4</td>\n",
       "    </tr>\n",
       "  </tbody>\n",
       "</table>\n",
       "</div>"
      ],
      "text/plain": [
       "       OutcomeType AnimalType SexuponOutcome     Color  AgeOutcomeDays  Month  \\\n",
       "0  Return_to_owner        Dog  Neutered Male  Brownish             365      2   \n",
       "1       Euthanasia        Cat  Spayed Female     Other             365     10   \n",
       "2         Adoption        Dog  Neutered Male   Blueish             730      1   \n",
       "3         Transfer        Cat    Intact Male   Blueish              21      7   \n",
       "4         Transfer        Dog  Neutered Male  Brownish             730     11   \n",
       "\n",
       "   y  \n",
       "0  3  \n",
       "1  2  \n",
       "2  0  \n",
       "3  4  \n",
       "4  4  "
      ]
     },
     "execution_count": 32,
     "metadata": {},
     "output_type": "execute_result"
    },
    {
     "data": {
      "text/html": [
       "<div>\n",
       "<style scoped>\n",
       "    .dataframe tbody tr th:only-of-type {\n",
       "        vertical-align: middle;\n",
       "    }\n",
       "\n",
       "    .dataframe tbody tr th {\n",
       "        vertical-align: top;\n",
       "    }\n",
       "\n",
       "    .dataframe thead th {\n",
       "        text-align: right;\n",
       "    }\n",
       "</style>\n",
       "<table border=\"1\" class=\"dataframe\">\n",
       "  <thead>\n",
       "    <tr style=\"text-align: right;\">\n",
       "      <th></th>\n",
       "      <th>OutcomeType</th>\n",
       "      <th>y</th>\n",
       "    </tr>\n",
       "  </thead>\n",
       "  <tbody>\n",
       "    <tr>\n",
       "      <th>0</th>\n",
       "      <td>Return_to_owner</td>\n",
       "      <td>3</td>\n",
       "    </tr>\n",
       "    <tr>\n",
       "      <th>1</th>\n",
       "      <td>Euthanasia</td>\n",
       "      <td>2</td>\n",
       "    </tr>\n",
       "    <tr>\n",
       "      <th>2</th>\n",
       "      <td>Adoption</td>\n",
       "      <td>0</td>\n",
       "    </tr>\n",
       "    <tr>\n",
       "      <th>3</th>\n",
       "      <td>Transfer</td>\n",
       "      <td>4</td>\n",
       "    </tr>\n",
       "    <tr>\n",
       "      <th>4</th>\n",
       "      <td>Transfer</td>\n",
       "      <td>4</td>\n",
       "    </tr>\n",
       "  </tbody>\n",
       "</table>\n",
       "</div>"
      ],
      "text/plain": [
       "       OutcomeType  y\n",
       "0  Return_to_owner  3\n",
       "1       Euthanasia  2\n",
       "2         Adoption  0\n",
       "3         Transfer  4\n",
       "4         Transfer  4"
      ]
     },
     "execution_count": 32,
     "metadata": {},
     "output_type": "execute_result"
    }
   ],
   "source": [
    "\n",
    "from sklearn.preprocessing import LabelEncoder\n",
    "le = LabelEncoder()\n",
    "gatoperro_clean['y'] = le.fit_transform(gatoperro_clean['OutcomeType'])\n",
    "gatoperro_clean.head()\n",
    "\n",
    "dfy = gatoperro_clean[['OutcomeType','y']]\n",
    "dfy.head()"
   ]
  },
  {
   "cell_type": "code",
   "execution_count": 33,
   "metadata": {
    "ExecuteTime": {
     "end_time": "2019-10-26T10:23:19.824203Z",
     "start_time": "2019-10-26T10:23:19.776961Z"
    }
   },
   "outputs": [],
   "source": [
    "\n",
    "df1 = pd.get_dummies(\n",
    "    data=gatoperro_clean[['AnimalType', 'SexuponOutcome','Color']],\n",
    "    columns=['AnimalType', 'SexuponOutcome','Color']\n",
    "    ,drop_first=True)\n"
   ]
  },
  {
   "cell_type": "code",
   "execution_count": 34,
   "metadata": {
    "ExecuteTime": {
     "end_time": "2019-10-26T10:23:19.852039Z",
     "start_time": "2019-10-26T10:23:19.826165Z"
    }
   },
   "outputs": [
    {
     "data": {
      "text/html": [
       "<div>\n",
       "<style scoped>\n",
       "    .dataframe tbody tr th:only-of-type {\n",
       "        vertical-align: middle;\n",
       "    }\n",
       "\n",
       "    .dataframe tbody tr th {\n",
       "        vertical-align: top;\n",
       "    }\n",
       "\n",
       "    .dataframe thead th {\n",
       "        text-align: right;\n",
       "    }\n",
       "</style>\n",
       "<table border=\"1\" class=\"dataframe\">\n",
       "  <thead>\n",
       "    <tr style=\"text-align: right;\">\n",
       "      <th></th>\n",
       "      <th>AnimalType_Dog</th>\n",
       "      <th>SexuponOutcome_Intact Male</th>\n",
       "      <th>SexuponOutcome_Neutered Male</th>\n",
       "      <th>SexuponOutcome_Spayed Female</th>\n",
       "      <th>SexuponOutcome_Unknown</th>\n",
       "      <th>Color_Blueish</th>\n",
       "      <th>Color_Brownish</th>\n",
       "      <th>Color_Orangeish</th>\n",
       "      <th>Color_Other</th>\n",
       "      <th>Color_Whitish</th>\n",
       "      <th>Month</th>\n",
       "    </tr>\n",
       "  </thead>\n",
       "  <tbody>\n",
       "    <tr>\n",
       "      <th>0</th>\n",
       "      <td>1</td>\n",
       "      <td>0</td>\n",
       "      <td>1</td>\n",
       "      <td>0</td>\n",
       "      <td>0</td>\n",
       "      <td>0</td>\n",
       "      <td>1</td>\n",
       "      <td>0</td>\n",
       "      <td>0</td>\n",
       "      <td>0</td>\n",
       "      <td>2</td>\n",
       "    </tr>\n",
       "    <tr>\n",
       "      <th>1</th>\n",
       "      <td>0</td>\n",
       "      <td>0</td>\n",
       "      <td>0</td>\n",
       "      <td>1</td>\n",
       "      <td>0</td>\n",
       "      <td>0</td>\n",
       "      <td>0</td>\n",
       "      <td>0</td>\n",
       "      <td>1</td>\n",
       "      <td>0</td>\n",
       "      <td>10</td>\n",
       "    </tr>\n",
       "    <tr>\n",
       "      <th>2</th>\n",
       "      <td>1</td>\n",
       "      <td>0</td>\n",
       "      <td>1</td>\n",
       "      <td>0</td>\n",
       "      <td>0</td>\n",
       "      <td>1</td>\n",
       "      <td>0</td>\n",
       "      <td>0</td>\n",
       "      <td>0</td>\n",
       "      <td>0</td>\n",
       "      <td>1</td>\n",
       "    </tr>\n",
       "    <tr>\n",
       "      <th>3</th>\n",
       "      <td>0</td>\n",
       "      <td>1</td>\n",
       "      <td>0</td>\n",
       "      <td>0</td>\n",
       "      <td>0</td>\n",
       "      <td>1</td>\n",
       "      <td>0</td>\n",
       "      <td>0</td>\n",
       "      <td>0</td>\n",
       "      <td>0</td>\n",
       "      <td>7</td>\n",
       "    </tr>\n",
       "    <tr>\n",
       "      <th>4</th>\n",
       "      <td>1</td>\n",
       "      <td>0</td>\n",
       "      <td>1</td>\n",
       "      <td>0</td>\n",
       "      <td>0</td>\n",
       "      <td>0</td>\n",
       "      <td>1</td>\n",
       "      <td>0</td>\n",
       "      <td>0</td>\n",
       "      <td>0</td>\n",
       "      <td>11</td>\n",
       "    </tr>\n",
       "  </tbody>\n",
       "</table>\n",
       "</div>"
      ],
      "text/plain": [
       "   AnimalType_Dog  SexuponOutcome_Intact Male  SexuponOutcome_Neutered Male  \\\n",
       "0               1                           0                             1   \n",
       "1               0                           0                             0   \n",
       "2               1                           0                             1   \n",
       "3               0                           1                             0   \n",
       "4               1                           0                             1   \n",
       "\n",
       "   SexuponOutcome_Spayed Female  SexuponOutcome_Unknown  Color_Blueish  \\\n",
       "0                             0                       0              0   \n",
       "1                             1                       0              0   \n",
       "2                             0                       0              1   \n",
       "3                             0                       0              1   \n",
       "4                             0                       0              0   \n",
       "\n",
       "   Color_Brownish  Color_Orangeish  Color_Other  Color_Whitish  Month  \n",
       "0               1                0            0              0      2  \n",
       "1               0                0            1              0     10  \n",
       "2               0                0            0              0      1  \n",
       "3               0                0            0              0      7  \n",
       "4               1                0            0              0     11  "
      ]
     },
     "execution_count": 34,
     "metadata": {},
     "output_type": "execute_result"
    }
   ],
   "source": [
    "df1['Month'] = gatoperro_clean['Month']\n",
    "df1.head()"
   ]
  },
  {
   "cell_type": "code",
   "execution_count": 35,
   "metadata": {
    "ExecuteTime": {
     "end_time": "2019-10-26T10:23:19.886235Z",
     "start_time": "2019-10-26T10:23:19.854960Z"
    }
   },
   "outputs": [],
   "source": [
    "from sklearn.model_selection import train_test_split\n",
    "\n",
    "X_train = df1\n",
    "y_train = dfy['y']\n",
    "\n",
    "\n",
    "\n",
    "X_train, X_test, y_train, y_test = train_test_split(\n",
    "    df1, dfy['y'], test_size= 0.3, shuffle=True, random_state=42)\n"
   ]
  },
  {
   "cell_type": "code",
   "execution_count": 36,
   "metadata": {
    "ExecuteTime": {
     "end_time": "2019-10-26T10:23:19.891628Z",
     "start_time": "2019-10-26T10:23:19.887941Z"
    }
   },
   "outputs": [],
   "source": [
    "from sklearn.preprocessing import MinMaxScaler\n",
    "\n",
    "def df_scaled(df):\n",
    "    scaled = MinMaxScaler(feature_range = (0, 1)).fit_transform(df.values)\n",
    "    out = pd.DataFrame(scaled, index=df.index, columns=df.columns)\n",
    "    return out\n"
   ]
  },
  {
   "cell_type": "code",
   "execution_count": 37,
   "metadata": {
    "ExecuteTime": {
     "end_time": "2019-10-26T10:23:19.918146Z",
     "start_time": "2019-10-26T10:23:19.895560Z"
    }
   },
   "outputs": [],
   "source": [
    "X_train = df_scaled(X_train)\n",
    "X_test = df_scaled(X_test)"
   ]
  },
  {
   "cell_type": "code",
   "execution_count": 38,
   "metadata": {
    "ExecuteTime": {
     "end_time": "2019-10-26T10:23:19.922015Z",
     "start_time": "2019-10-26T10:23:19.919815Z"
    }
   },
   "outputs": [],
   "source": [
    "#y_test = pd.read_csv(\"y_test.csv\")\n",
    "#X_test = pd.read_csv(\"X_test.csv\")"
   ]
  },
  {
   "cell_type": "code",
   "execution_count": null,
   "metadata": {
    "ExecuteTime": {
     "end_time": "2019-10-26T10:21:18.482756Z",
     "start_time": "2019-10-26T10:21:18.304924Z"
    }
   },
   "outputs": [],
   "source": [
    "\n"
   ]
  },
  {
   "cell_type": "code",
   "execution_count": 39,
   "metadata": {
    "ExecuteTime": {
     "end_time": "2019-10-26T10:23:20.020088Z",
     "start_time": "2019-10-26T10:23:19.927669Z"
    }
   },
   "outputs": [
    {
     "data": {
      "text/plain": [
       "(18697, 11)"
      ]
     },
     "execution_count": 39,
     "metadata": {},
     "output_type": "execute_result"
    },
    {
     "data": {
      "text/plain": [
       "(18697,)"
      ]
     },
     "execution_count": 39,
     "metadata": {},
     "output_type": "execute_result"
    },
    {
     "data": {
      "text/plain": [
       "(8013,)"
      ]
     },
     "execution_count": 39,
     "metadata": {},
     "output_type": "execute_result"
    },
    {
     "data": {
      "text/plain": [
       "(8013, 11)"
      ]
     },
     "execution_count": 39,
     "metadata": {},
     "output_type": "execute_result"
    },
    {
     "data": {
      "text/html": [
       "<div>\n",
       "<style scoped>\n",
       "    .dataframe tbody tr th:only-of-type {\n",
       "        vertical-align: middle;\n",
       "    }\n",
       "\n",
       "    .dataframe tbody tr th {\n",
       "        vertical-align: top;\n",
       "    }\n",
       "\n",
       "    .dataframe thead th {\n",
       "        text-align: right;\n",
       "    }\n",
       "</style>\n",
       "<table border=\"1\" class=\"dataframe\">\n",
       "  <thead>\n",
       "    <tr style=\"text-align: right;\">\n",
       "      <th></th>\n",
       "      <th>AnimalType_Dog</th>\n",
       "      <th>SexuponOutcome_Intact Male</th>\n",
       "      <th>SexuponOutcome_Neutered Male</th>\n",
       "      <th>SexuponOutcome_Spayed Female</th>\n",
       "      <th>SexuponOutcome_Unknown</th>\n",
       "      <th>Color_Blueish</th>\n",
       "      <th>Color_Brownish</th>\n",
       "      <th>Color_Orangeish</th>\n",
       "      <th>Color_Other</th>\n",
       "      <th>Color_Whitish</th>\n",
       "      <th>Month</th>\n",
       "    </tr>\n",
       "  </thead>\n",
       "  <tbody>\n",
       "    <tr>\n",
       "      <th>6275</th>\n",
       "      <td>0.0</td>\n",
       "      <td>0.0</td>\n",
       "      <td>0.0</td>\n",
       "      <td>0.0</td>\n",
       "      <td>1.0</td>\n",
       "      <td>0.0</td>\n",
       "      <td>0.0</td>\n",
       "      <td>0.0</td>\n",
       "      <td>0.0</td>\n",
       "      <td>1.0</td>\n",
       "      <td>0.454545</td>\n",
       "    </tr>\n",
       "    <tr>\n",
       "      <th>22587</th>\n",
       "      <td>0.0</td>\n",
       "      <td>0.0</td>\n",
       "      <td>0.0</td>\n",
       "      <td>0.0</td>\n",
       "      <td>0.0</td>\n",
       "      <td>0.0</td>\n",
       "      <td>1.0</td>\n",
       "      <td>0.0</td>\n",
       "      <td>0.0</td>\n",
       "      <td>0.0</td>\n",
       "      <td>0.181818</td>\n",
       "    </tr>\n",
       "    <tr>\n",
       "      <th>22814</th>\n",
       "      <td>1.0</td>\n",
       "      <td>0.0</td>\n",
       "      <td>1.0</td>\n",
       "      <td>0.0</td>\n",
       "      <td>0.0</td>\n",
       "      <td>0.0</td>\n",
       "      <td>0.0</td>\n",
       "      <td>0.0</td>\n",
       "      <td>0.0</td>\n",
       "      <td>1.0</td>\n",
       "      <td>0.181818</td>\n",
       "    </tr>\n",
       "    <tr>\n",
       "      <th>18752</th>\n",
       "      <td>1.0</td>\n",
       "      <td>0.0</td>\n",
       "      <td>1.0</td>\n",
       "      <td>0.0</td>\n",
       "      <td>0.0</td>\n",
       "      <td>0.0</td>\n",
       "      <td>1.0</td>\n",
       "      <td>0.0</td>\n",
       "      <td>0.0</td>\n",
       "      <td>0.0</td>\n",
       "      <td>0.000000</td>\n",
       "    </tr>\n",
       "    <tr>\n",
       "      <th>5916</th>\n",
       "      <td>1.0</td>\n",
       "      <td>0.0</td>\n",
       "      <td>0.0</td>\n",
       "      <td>1.0</td>\n",
       "      <td>0.0</td>\n",
       "      <td>0.0</td>\n",
       "      <td>0.0</td>\n",
       "      <td>0.0</td>\n",
       "      <td>0.0</td>\n",
       "      <td>0.0</td>\n",
       "      <td>0.909091</td>\n",
       "    </tr>\n",
       "  </tbody>\n",
       "</table>\n",
       "</div>"
      ],
      "text/plain": [
       "       AnimalType_Dog  SexuponOutcome_Intact Male  \\\n",
       "6275              0.0                         0.0   \n",
       "22587             0.0                         0.0   \n",
       "22814             1.0                         0.0   \n",
       "18752             1.0                         0.0   \n",
       "5916              1.0                         0.0   \n",
       "\n",
       "       SexuponOutcome_Neutered Male  SexuponOutcome_Spayed Female  \\\n",
       "6275                            0.0                           0.0   \n",
       "22587                           0.0                           0.0   \n",
       "22814                           1.0                           0.0   \n",
       "18752                           1.0                           0.0   \n",
       "5916                            0.0                           1.0   \n",
       "\n",
       "       SexuponOutcome_Unknown  Color_Blueish  Color_Brownish  Color_Orangeish  \\\n",
       "6275                      1.0            0.0             0.0              0.0   \n",
       "22587                     0.0            0.0             1.0              0.0   \n",
       "22814                     0.0            0.0             0.0              0.0   \n",
       "18752                     0.0            0.0             1.0              0.0   \n",
       "5916                      0.0            0.0             0.0              0.0   \n",
       "\n",
       "       Color_Other  Color_Whitish     Month  \n",
       "6275           0.0            1.0  0.454545  \n",
       "22587          0.0            0.0  0.181818  \n",
       "22814          0.0            1.0  0.181818  \n",
       "18752          0.0            0.0  0.000000  \n",
       "5916           0.0            0.0  0.909091  "
      ]
     },
     "execution_count": 39,
     "metadata": {},
     "output_type": "execute_result"
    },
    {
     "data": {
      "text/html": [
       "<div>\n",
       "<style scoped>\n",
       "    .dataframe tbody tr th:only-of-type {\n",
       "        vertical-align: middle;\n",
       "    }\n",
       "\n",
       "    .dataframe tbody tr th {\n",
       "        vertical-align: top;\n",
       "    }\n",
       "\n",
       "    .dataframe thead th {\n",
       "        text-align: right;\n",
       "    }\n",
       "</style>\n",
       "<table border=\"1\" class=\"dataframe\">\n",
       "  <thead>\n",
       "    <tr style=\"text-align: right;\">\n",
       "      <th></th>\n",
       "      <th>AnimalType_Dog</th>\n",
       "      <th>SexuponOutcome_Intact Male</th>\n",
       "      <th>SexuponOutcome_Neutered Male</th>\n",
       "      <th>SexuponOutcome_Spayed Female</th>\n",
       "      <th>SexuponOutcome_Unknown</th>\n",
       "      <th>Color_Blueish</th>\n",
       "      <th>Color_Brownish</th>\n",
       "      <th>Color_Orangeish</th>\n",
       "      <th>Color_Other</th>\n",
       "      <th>Color_Whitish</th>\n",
       "      <th>Month</th>\n",
       "    </tr>\n",
       "  </thead>\n",
       "  <tbody>\n",
       "    <tr>\n",
       "      <th>23638</th>\n",
       "      <td>1.0</td>\n",
       "      <td>0.0</td>\n",
       "      <td>0.0</td>\n",
       "      <td>1.0</td>\n",
       "      <td>0.0</td>\n",
       "      <td>0.0</td>\n",
       "      <td>0.0</td>\n",
       "      <td>0.0</td>\n",
       "      <td>0.0</td>\n",
       "      <td>1.0</td>\n",
       "      <td>0.363636</td>\n",
       "    </tr>\n",
       "    <tr>\n",
       "      <th>1419</th>\n",
       "      <td>1.0</td>\n",
       "      <td>0.0</td>\n",
       "      <td>0.0</td>\n",
       "      <td>0.0</td>\n",
       "      <td>0.0</td>\n",
       "      <td>0.0</td>\n",
       "      <td>0.0</td>\n",
       "      <td>0.0</td>\n",
       "      <td>0.0</td>\n",
       "      <td>0.0</td>\n",
       "      <td>0.636364</td>\n",
       "    </tr>\n",
       "    <tr>\n",
       "      <th>15919</th>\n",
       "      <td>0.0</td>\n",
       "      <td>0.0</td>\n",
       "      <td>0.0</td>\n",
       "      <td>1.0</td>\n",
       "      <td>0.0</td>\n",
       "      <td>0.0</td>\n",
       "      <td>0.0</td>\n",
       "      <td>0.0</td>\n",
       "      <td>1.0</td>\n",
       "      <td>0.0</td>\n",
       "      <td>0.727273</td>\n",
       "    </tr>\n",
       "    <tr>\n",
       "      <th>10335</th>\n",
       "      <td>1.0</td>\n",
       "      <td>0.0</td>\n",
       "      <td>1.0</td>\n",
       "      <td>0.0</td>\n",
       "      <td>0.0</td>\n",
       "      <td>0.0</td>\n",
       "      <td>0.0</td>\n",
       "      <td>0.0</td>\n",
       "      <td>0.0</td>\n",
       "      <td>1.0</td>\n",
       "      <td>0.272727</td>\n",
       "    </tr>\n",
       "    <tr>\n",
       "      <th>19090</th>\n",
       "      <td>1.0</td>\n",
       "      <td>0.0</td>\n",
       "      <td>1.0</td>\n",
       "      <td>0.0</td>\n",
       "      <td>0.0</td>\n",
       "      <td>0.0</td>\n",
       "      <td>0.0</td>\n",
       "      <td>0.0</td>\n",
       "      <td>1.0</td>\n",
       "      <td>0.0</td>\n",
       "      <td>0.909091</td>\n",
       "    </tr>\n",
       "  </tbody>\n",
       "</table>\n",
       "</div>"
      ],
      "text/plain": [
       "       AnimalType_Dog  SexuponOutcome_Intact Male  \\\n",
       "23638             1.0                         0.0   \n",
       "1419              1.0                         0.0   \n",
       "15919             0.0                         0.0   \n",
       "10335             1.0                         0.0   \n",
       "19090             1.0                         0.0   \n",
       "\n",
       "       SexuponOutcome_Neutered Male  SexuponOutcome_Spayed Female  \\\n",
       "23638                           0.0                           1.0   \n",
       "1419                            0.0                           0.0   \n",
       "15919                           0.0                           1.0   \n",
       "10335                           1.0                           0.0   \n",
       "19090                           1.0                           0.0   \n",
       "\n",
       "       SexuponOutcome_Unknown  Color_Blueish  Color_Brownish  Color_Orangeish  \\\n",
       "23638                     0.0            0.0             0.0              0.0   \n",
       "1419                      0.0            0.0             0.0              0.0   \n",
       "15919                     0.0            0.0             0.0              0.0   \n",
       "10335                     0.0            0.0             0.0              0.0   \n",
       "19090                     0.0            0.0             0.0              0.0   \n",
       "\n",
       "       Color_Other  Color_Whitish     Month  \n",
       "23638          0.0            1.0  0.363636  \n",
       "1419           0.0            0.0  0.636364  \n",
       "15919          1.0            0.0  0.727273  \n",
       "10335          0.0            1.0  0.272727  \n",
       "19090          1.0            0.0  0.909091  "
      ]
     },
     "execution_count": 39,
     "metadata": {},
     "output_type": "execute_result"
    },
    {
     "data": {
      "text/plain": [
       "6275     4\n",
       "22587    4\n",
       "22814    3\n",
       "18752    0\n",
       "5916     0\n",
       "Name: y, dtype: int64"
      ]
     },
     "execution_count": 39,
     "metadata": {},
     "output_type": "execute_result"
    },
    {
     "data": {
      "text/plain": [
       "23638    3\n",
       "1419     4\n",
       "15919    0\n",
       "10335    3\n",
       "19090    0\n",
       "Name: y, dtype: int64"
      ]
     },
     "execution_count": 39,
     "metadata": {},
     "output_type": "execute_result"
    }
   ],
   "source": [
    "X_train.shape\n",
    "y_train.shape\n",
    "\n",
    "y_test.shape\n",
    "X_test.shape\n",
    "\n",
    "X_test.head()\n",
    "X_test.tail()\n",
    "y_test.head()\n",
    "y_test.tail()\n"
   ]
  },
  {
   "cell_type": "code",
   "execution_count": 40,
   "metadata": {
    "ExecuteTime": {
     "end_time": "2019-10-26T10:23:20.044942Z",
     "start_time": "2019-10-26T10:23:20.023168Z"
    }
   },
   "outputs": [],
   "source": [
    "#X_test.drop(['Unnamed: 0'], axis=1,inplace=True)\n",
    "#y_test.drop(['Unnamed: 0'], axis=1,inplace=True)"
   ]
  },
  {
   "cell_type": "code",
   "execution_count": 41,
   "metadata": {
    "ExecuteTime": {
     "end_time": "2019-10-26T10:23:22.521259Z",
     "start_time": "2019-10-26T10:23:20.071163Z"
    }
   },
   "outputs": [
    {
     "data": {
      "text/plain": [
       "<Figure size 1152x432 with 0 Axes>"
      ]
     },
     "metadata": {},
     "output_type": "display_data"
    },
    {
     "data": {
      "image/png": "[encoded data removed]",
      "text/plain": [
       "<Figure size 432x288 with 12 Axes>"
      ]
     },
     "metadata": {
      "needs_background": "light"
     },
     "output_type": "display_data"
    },
    {
     "data": {
      "text/plain": [
       "<Figure size 1152x432 with 0 Axes>"
      ]
     },
     "metadata": {},
     "output_type": "display_data"
    },
    {
     "data": {
      "image/png": "[encoded data removed]",
      "text/plain": [
       "<Figure size 432x288 with 12 Axes>"
      ]
     },
     "metadata": {
      "needs_background": "light"
     },
     "output_type": "display_data"
    }
   ],
   "source": [
    "plt.figure(figsize=(16, 6));\n",
    "X_train.hist();\n",
    "plt.show();\n",
    "plt.figure(figsize=(16, 6));\n",
    "X_test.hist();\n",
    "plt.show();"
   ]
  },
  {
   "cell_type": "code",
   "execution_count": null,
   "metadata": {},
   "outputs": [],
   "source": []
  },
  {
   "cell_type": "code",
   "execution_count": null,
   "metadata": {},
   "outputs": [],
   "source": []
  },
  {
   "cell_type": "code",
   "execution_count": 42,
   "metadata": {
    "ExecuteTime": {
     "end_time": "2019-10-26T10:23:22.691901Z",
     "start_time": "2019-10-26T10:23:22.523977Z"
    }
   },
   "outputs": [],
   "source": [
    "from sklearn.neighbors import KNeighborsClassifier\n",
    "from sklearn.metrics import f1_score\n",
    "from sklearn.linear_model import LogisticRegression\n",
    "from sklearn.ensemble import RandomForestClassifier\n",
    "from sklearn.svm import SVC\n",
    "from sklearn.tree import DecisionTreeClassifier\n",
    "\n",
    "\n",
    "def knn(X_train,y_train,X_test, y_test, nei):\n",
    "    neigh = KNeighborsClassifier(n_neighbors=nei)\n",
    "    neigh.fit(X_train, y_train)\n",
    "    y_pred = neigh.predict(X_test)\n",
    "    return f1_score(y_test,y_pred, average='micro'), neigh.score(X_test,y_test)\n",
    "\n",
    "def logreg(X_train,y_train,X_test, y_test, k):\n",
    "    lr = LogisticRegression(random_state=0, solver='lbfgs',\n",
    "                            multi_class='multinomial').fit(X_train, y_train)\n",
    "    y_pred = lr.predict(X_test)\n",
    "    return f1_score(y_test,y_pred, average=k), lr.score(X_test,y_test)\n",
    "\n",
    "def rndfo(X_train,y_train,X_test, y_test, k):\n",
    "    clf = RandomForestClassifier(n_estimators=k, max_depth=2,\n",
    "                            random_state=0)\n",
    "    clf.fit(X_train, y_train)\n",
    "    y_pred = clf.predict(X_test)\n",
    "    return f1_score(y_test,y_pred, average='micro'),clf.score(X_test,y_test)\n",
    "\n",
    "def svc(X_train,y_train,X_test, y_test, k):\n",
    "    svm = SVC(gamma=k)\n",
    "    svm.fit(X_train, y_train)\n",
    "    y_pred = svm.predict(X_test)\n",
    "    return f1_score(y_test,y_pred, average='micro'), svm.score(X_test,y_test)\n",
    "\n",
    "def dtre(X_train,y_train,X_test, y_test, k):\n",
    "    tr = DecisionTreeClassifier(random_state=0, max_depth=k)\n",
    "    tr.fit(X_train, y_train)\n",
    "    y_pred = tr.predict(X_test)\n",
    "    return f1_score(y_test,y_pred, average='micro'), tr.score(X_test,y_test)"
   ]
  },
  {
   "cell_type": "code",
   "execution_count": 62,
   "metadata": {
    "ExecuteTime": {
     "end_time": "2019-10-26T10:35:00.966219Z",
     "start_time": "2019-10-26T10:35:00.957655Z"
    }
   },
   "outputs": [],
   "source": [
    "def test(method, X_train ,y_train,X_test, y_test, k, alist):\n",
    "    dic={}\n",
    "    d2= {}\n",
    "    for k in alist:\n",
    "        s1, s2 = method(X_train,y_train,X_test, y_test,k)\n",
    "        dic[k]=s1  \n",
    "        d2[k]=s2\n",
    "    return dic,d2\n",
    "\n",
    "def plot(dic):\n",
    "    colors = list(\"rgbcmykrgbcmyk\")\n",
    "    o = 0\n",
    "    m = 0\n",
    "    n = 0\n",
    "    for key in dic:\n",
    "        o = m\n",
    "        m = max(m,dic[key])\n",
    "        if o !=  m:\n",
    "            n = key\n",
    "        plt.scatter(key, dic[key], label=key,color=colors.pop());\n",
    "    plt.legend()\n",
    "    plt.title('best: '+str(n)+\" -> \"+str(round(m,4)))\n",
    "    plt.show();\n",
    "  "
   ]
  },
  {
   "cell_type": "markdown",
   "metadata": {},
   "source": [
    "## KNN"
   ]
  },
  {
   "cell_type": "code",
   "execution_count": 64,
   "metadata": {
    "ExecuteTime": {
     "end_time": "2019-10-26T10:35:49.778620Z",
     "start_time": "2019-10-26T10:35:35.637195Z"
    }
   },
   "outputs": [
    {
     "data": {
      "image/png": "[encoded data removed]",
      "text/plain": [
       "<Figure size 432x288 with 1 Axes>"
      ]
     },
     "metadata": {
      "needs_background": "light"
     },
     "output_type": "display_data"
    },
    {
     "data": {
      "image/png": "[encoded data removed]",
      "text/plain": [
       "<Figure size 432x288 with 1 Axes>"
      ]
     },
     "metadata": {
      "needs_background": "light"
     },
     "output_type": "display_data"
    }
   ],
   "source": [
    "  \n",
    "dic, d2 = test(knn, X_train ,y_train,X_test, y_test, 3, [3,5,7,9,11,13,15,17])\n",
    "plot(dic)\n",
    "plot(d2)"
   ]
  },
  {
   "cell_type": "markdown",
   "metadata": {},
   "source": [
    "## LogisticRegression"
   ]
  },
  {
   "cell_type": "code",
   "execution_count": 63,
   "metadata": {
    "ExecuteTime": {
     "end_time": "2019-10-26T10:35:12.196549Z",
     "start_time": "2019-10-26T10:35:09.628713Z"
    }
   },
   "outputs": [
    {
     "name": "stderr",
     "output_type": "stream",
     "text": [
      "/anaconda3/lib/python3.6/site-packages/sklearn/linear_model/logistic.py:947: ConvergenceWarning:\n",
      "\n",
      "lbfgs failed to converge. Increase the number of iterations.\n",
      "\n",
      "/anaconda3/lib/python3.6/site-packages/sklearn/linear_model/logistic.py:947: ConvergenceWarning:\n",
      "\n",
      "lbfgs failed to converge. Increase the number of iterations.\n",
      "\n",
      "/anaconda3/lib/python3.6/site-packages/sklearn/metrics/classification.py:1437: UndefinedMetricWarning:\n",
      "\n",
      "F-score is ill-defined and being set to 0.0 in labels with no predicted samples.\n",
      "\n",
      "/anaconda3/lib/python3.6/site-packages/sklearn/linear_model/logistic.py:947: ConvergenceWarning:\n",
      "\n",
      "lbfgs failed to converge. Increase the number of iterations.\n",
      "\n",
      "/anaconda3/lib/python3.6/site-packages/sklearn/metrics/classification.py:1437: UndefinedMetricWarning:\n",
      "\n",
      "F-score is ill-defined and being set to 0.0 in labels with no predicted samples.\n",
      "\n"
     ]
    },
    {
     "data": {
      "image/png": "[encoded data removed]",
      "text/plain": [
       "<Figure size 432x288 with 1 Axes>"
      ]
     },
     "metadata": {
      "needs_background": "light"
     },
     "output_type": "display_data"
    },
    {
     "data": {
      "image/png": "[encoded data removed]",
      "text/plain": [
       "<Figure size 432x288 with 1 Axes>"
      ]
     },
     "metadata": {
      "needs_background": "light"
     },
     "output_type": "display_data"
    }
   ],
   "source": [
    "dic, d2 = test(logreg, X_train ,y_train,X_test,\n",
    "           y_test, 0, ['micro','macro','weighted'])\n",
    "plot(dic)\n",
    "plot(d2)"
   ]
  },
  {
   "cell_type": "markdown",
   "metadata": {},
   "source": [
    "## RandomForestClassifier"
   ]
  },
  {
   "cell_type": "code",
   "execution_count": 65,
   "metadata": {
    "ExecuteTime": {
     "end_time": "2019-10-26T10:36:10.642194Z",
     "start_time": "2019-10-26T10:36:08.441598Z"
    }
   },
   "outputs": [
    {
     "data": {
      "image/png": "[encoded data removed]",
      "text/plain": [
       "<Figure size 432x288 with 1 Axes>"
      ]
     },
     "metadata": {
      "needs_background": "light"
     },
     "output_type": "display_data"
    },
    {
     "data": {
      "image/png": "[encoded data removed]",
      "text/plain": [
       "<Figure size 432x288 with 1 Axes>"
      ]
     },
     "metadata": {
      "needs_background": "light"
     },
     "output_type": "display_data"
    }
   ],
   "source": [
    "dic, d2 = test(rndfo, X_train ,y_train,X_test,\n",
    "           y_test, 0, [25, 50,100, 150])\n",
    "plot(dic)\n",
    "plot(d2)"
   ]
  },
  {
   "cell_type": "markdown",
   "metadata": {},
   "source": [
    "## SVC"
   ]
  },
  {
   "cell_type": "code",
   "execution_count": 67,
   "metadata": {
    "ExecuteTime": {
     "end_time": "2019-10-26T10:36:52.873337Z",
     "start_time": "2019-10-26T10:36:34.702175Z"
    }
   },
   "outputs": [
    {
     "data": {
      "image/png": "[encoded data removed]",
      "text/plain": [
       "<Figure size 432x288 with 1 Axes>"
      ]
     },
     "metadata": {
      "needs_background": "light"
     },
     "output_type": "display_data"
    },
    {
     "data": {
      "image/png": "[encoded data removed]",
      "text/plain": [
       "<Figure size 432x288 with 1 Axes>"
      ]
     },
     "metadata": {
      "needs_background": "light"
     },
     "output_type": "display_data"
    }
   ],
   "source": [
    "dic, d2 = test(svc, X_train ,y_train,X_test,\n",
    "           y_test, 0, ['auto'])#,'rbf','poly','sigmoid'])\n",
    "plot(dic)\n",
    "plot(d2)"
   ]
  },
  {
   "cell_type": "markdown",
   "metadata": {},
   "source": [
    "## DTREE"
   ]
  },
  {
   "cell_type": "code",
   "execution_count": 68,
   "metadata": {
    "ExecuteTime": {
     "end_time": "2019-10-26T10:37:28.172740Z",
     "start_time": "2019-10-26T10:37:27.610424Z"
    }
   },
   "outputs": [
    {
     "data": {
      "image/png": "[encoded data removed]",
      "text/plain": [
       "<Figure size 432x288 with 1 Axes>"
      ]
     },
     "metadata": {
      "needs_background": "light"
     },
     "output_type": "display_data"
    },
    {
     "data": {
      "image/png": "[encoded data removed]",
      "text/plain": [
       "<Figure size 432x288 with 1 Axes>"
      ]
     },
     "metadata": {
      "needs_background": "light"
     },
     "output_type": "display_data"
    }
   ],
   "source": [
    "dic, d2 = test(dtre, X_train ,y_train,X_test,\n",
    "           y_test, 0, [2,4,5,6,7,8])\n",
    "plot(dic)\n",
    "plot(d2)"
   ]
  },
  {
   "cell_type": "code",
   "execution_count": null,
   "metadata": {},
   "outputs": [],
   "source": []
  },
  {
   "cell_type": "code",
   "execution_count": null,
   "metadata": {},
   "outputs": [],
   "source": []
  }
 ],
 "metadata": {
  "kernelspec": {
   "display_name": "Python 3",
   "language": "python",
   "name": "python3"
  },
  "language_info": {
   "codemirror_mode": {
    "name": "ipython",
    "version": 3
   },
   "file_extension": ".py",
   "mimetype": "text/x-python",
   "name": "python",
   "nbconvert_exporter": "python",
   "pygments_lexer": "ipython3",
   "version": "3.6.8"
  },
  "toc": {
   "base_numbering": 1,
   "nav_menu": {},
   "number_sections": false,
   "sideBar": true,
   "skip_h1_title": false,
   "title_cell": "Table of Contents",
   "title_sidebar": "Contents",
   "toc_cell": false,
   "toc_position": {},
   "toc_section_display": true,
   "toc_window_display": false
  },
  "varInspector": {
   "cols": {
    "lenName": 16,
    "lenType": 16,
    "lenVar": 40
   },
   "kernels_config": {
    "python": {
     "delete_cmd_postfix": "",
     "delete_cmd_prefix": "del ",
     "library": "var_list.py",
     "varRefreshCmd": "print(var_dic_list())"
    },
    "r": {
     "delete_cmd_postfix": ") ",
     "delete_cmd_prefix": "rm(",
     "library": "var_list.r",
     "varRefreshCmd": "cat(var_dic_list()) "
    }
   },
   "types_to_exclude": [
    "module",
    "function",
    "builtin_function_or_method",
    "instance",
    "_Feature"
   ],
   "window_display": false
  }
 },
 "nbformat": 4,
 "nbformat_minor": 2
}
